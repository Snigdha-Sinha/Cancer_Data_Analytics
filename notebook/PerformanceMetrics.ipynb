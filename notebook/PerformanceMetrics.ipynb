{
  "nbformat": 4,
  "nbformat_minor": 0,
  "metadata": {
    "colab": {
      "name": "Untitled8.ipynb",
      "provenance": [],
      "collapsed_sections": [],
      "toc_visible": true
    },
    "kernelspec": {
      "name": "python3",
      "display_name": "Python 3"
    },
    "language_info": {
      "name": "python"
    }
  },
  "cells": [
    {
      "cell_type": "code",
      "metadata": {
        "id": "OS1POP7ywSK2"
      },
      "source": [
        "import pandas as pd\n",
        "from sklearn.preprocessing import StandardScaler, Normalizer\n",
        "from sklearn.pipeline import Pipeline\n",
        "from sklearn.decomposition import PCA\n",
        "from sklearn.linear_model import LogisticRegression\n",
        "from sklearn.svm import SVC\n",
        "from sklearn.ensemble import RandomForestClassifier, AdaBoostClassifier\n",
        "from sklearn.neighbors import KNeighborsClassifier\n",
        "from sklearn.metrics import mean_squared_error, accuracy_score, roc_auc_score, f1_score\n",
        "from tensorflow.keras.models import Sequential\n",
        "from tensorflow.keras.layers import Dense\n",
        "from tensorflow.keras.optimizers import Adam"
      ],
      "execution_count": null,
      "outputs": []
    },
    {
      "cell_type": "code",
      "metadata": {
        "id": "fVfJVuWgwTWK",
        "colab": {
          "base_uri": "https://localhost:8080/"
        },
        "outputId": "5bae94ab-48fa-489a-85fe-50490c1a8cba"
      },
      "source": [
        "df_train = pd.read_csv(\"train.csv\")\n",
        "df_test = pd.read_csv(\"test.csv\")\n",
        "y_test = df_test['diagnosis']\n",
        "x_train_values = df_train.drop(columns=[\"diagnosis\"]).values\n",
        "x_test_values = df_test.drop(columns=[\"diagnosis\"]).values\n",
        "print(y_test)"
      ],
      "execution_count": null,
      "outputs": [
        {
          "output_type": "stream",
          "name": "stdout",
          "text": [
            "0      1\n",
            "1      0\n",
            "2      0\n",
            "3      1\n",
            "4      0\n",
            "      ..\n",
            "109    0\n",
            "110    0\n",
            "111    0\n",
            "112    1\n",
            "113    1\n",
            "Name: diagnosis, Length: 114, dtype: int64\n"
          ]
        }
      ]
    },
    {
      "cell_type": "code",
      "metadata": {
        "id": "0IeGXhEm6JzT"
      },
      "source": [
        "x_train_values_all=x_train_values\n",
        "x_test_values_all=x_test_values\n",
        "x_train_values_sp=x_train_values\n",
        "x_test_values_sp=x_test_values\n"
      ],
      "execution_count": null,
      "outputs": []
    },
    {
      "cell_type": "code",
      "metadata": {
        "id": "0nEEgrI3xbOt"
      },
      "source": [
        "scaler = StandardScaler()\n",
        "normalizer = Normalizer()\n",
        "pca = PCA(n_components=15)"
      ],
      "execution_count": null,
      "outputs": []
    },
    {
      "cell_type": "code",
      "metadata": {
        "id": "9WaDtPIo3XmI"
      },
      "source": [
        "preprocessing_pipe_all = Pipeline([(\"normalizer\", normalizer), (\"scaler\", scaler), (\"pca\", pca)])\n",
        "preprocessing_pipe_sp = Pipeline([(\"scaler\", scaler), (\"pca\", pca)])\n",
        "preprocessing_pipe = Pipeline([(\"scaler\", scaler)])"
      ],
      "execution_count": null,
      "outputs": []
    },
    {
      "cell_type": "code",
      "metadata": {
        "id": "XMgqsh5B4Fet"
      },
      "source": [
        "y = df_train[\"diagnosis\"].values\n",
        "\n",
        "preprocessing_pipe_all.fit(x_train_values_all)\n",
        "x_train_transformed_all = preprocessing_pipe_all.transform(x_train_values_all)\n",
        "x_test_tranformed_all=preprocessing_pipe_all.transform(x_test_values_all)\n",
        "\n",
        "preprocessing_pipe_sp.fit(x_train_values_sp)\n",
        "x_train_transformed_sp = preprocessing_pipe_sp.transform(x_train_values_sp)\n",
        "x_test_tranformed_sp=preprocessing_pipe_sp.transform(x_test_values_sp)\n",
        "\n",
        "\n",
        "preprocessing_pipe.fit(x_train_values)\n",
        "x_train_transformed = preprocessing_pipe.transform(x_train_values)\n",
        "x_test_tranformed=preprocessing_pipe.transform(x_test_values)\n",
        "\n"
      ],
      "execution_count": null,
      "outputs": []
    },
    {
      "cell_type": "code",
      "metadata": {
        "id": "ED2bMssj7S1b"
      },
      "source": [
        "def getAdaboostConfigTrained():\n",
        "    model = AdaBoostClassifier(algorithm = \"SAMME.R\",\n",
        "        base_estimator= None,\n",
        "        learning_rate= 0.5,\n",
        "        n_estimators = 100)\n",
        "    return model\n",
        "\n",
        "def getSVCConfigTrained():\n",
        "    model = SVC(C = 0.1,\n",
        "        coef0= 10,\n",
        "        degree = 3,\n",
        "        gamma = \"auto\",\n",
        "        kernel=\"poly\",\n",
        "        shrinking= True,\n",
        "        tol=0.1)\n",
        "    return model\n",
        "\n",
        "def getLogisticRegConfigTrained():\n",
        "    model = LogisticRegression(\n",
        "        C = 0.4,\n",
        "        dual = True,\n",
        "        penalty = \"l2\",\n",
        "        solver = \"liblinear\",\n",
        "        tol = 1)\n",
        "    return model\n",
        "\n",
        "def getRandomForestConfigTrained():\n",
        "  model= RandomForestClassifier(\n",
        "        bootstrap = False,\n",
        "        criterion = \"entropy\",\n",
        "        max_features = \"auto\",\n",
        "        min_samples_leaf = 2,\n",
        "        min_samples_split = 10,\n",
        "        n_estimators = 250)\n",
        "  return model\n",
        "\n",
        "def neuralnetworkConfigTrained():\n",
        "  model = Sequential([\n",
        "        Dense(128, activation='relu', input_shape=(x_train_transformed_sp.shape[1],)),\n",
        "        Dense(64, activation='relu'),\n",
        "        Dense(1, activation='sigmoid')\n",
        "    ])\n",
        "  model.compile(optimizer=Adam(learning_rate=0.00015), loss='binary_crossentropy', \n",
        "                  metrics=['accuracy'])\n",
        "  return \n",
        "\n",
        "def getKNeighboursConfigTrained():\n",
        "    model = KNeighborsClassifier(\n",
        "        algorithm = \"auto\",\n",
        "        leaf_size = 1,\n",
        "        metric = \"manhattan\",\n",
        "        n_neighbors = 5,\n",
        "        p = 1,\n",
        "        weights = \"uniform\")\n",
        "    return model"
      ],
      "execution_count": null,
      "outputs": []
    },
    {
      "cell_type": "markdown",
      "metadata": {
        "id": "Rt6x_wTwHcIA"
      },
      "source": [
        "### Logistic Regression"
      ]
    },
    {
      "cell_type": "code",
      "metadata": {
        "colab": {
          "base_uri": "https://localhost:8080/"
        },
        "id": "9TGOgEViGsiq",
        "outputId": "929b3972-c8a3-494c-84e8-7dab7de12f51"
      },
      "source": [
        "logistic_model = getLogisticRegConfigTrained()\n",
        "logistic_model.fit(x_train_transformed_sp, y)\n",
        "pred = logistic_model.predict(x_test_tranformed_sp)\n",
        "mse_lr = mean_squared_error(pred,y_test)**0.5\n",
        "f1_lr = f1_score(pred,y_test)\n",
        "accuracy_lr = accuracy_score(pred,y_test)\n",
        "roc_auc_lr = roc_auc_score(pred,y_test)\n",
        "print(\"MSE of Logistic Regression\", mse_lr)\n",
        "print(\"F1 score of Logistic Regression\", f1_lr )\n",
        "print(\"accuracy of Logistic Regression\", accuracy_lr)\n",
        "print(\"roc auc of Logistic Regression\", roc_auc_lr )\n",
        "lrmetrics = {\"accuracy\":accuracy_lr, \"F1 score\":f1_lr, \"roc\":roc_auc_lr, \"mse\":mse_lr}"
      ],
      "execution_count": null,
      "outputs": [
        {
          "output_type": "stream",
          "name": "stdout",
          "text": [
            "MSE of Logistic Regression 0.16222142113076254\n",
            "F1 score of Logistic Regression 0.9610389610389611\n",
            "accuracy of Logistic Regression 0.9736842105263158\n",
            "roc auc of Logistic Regression 0.9736842105263158\n"
          ]
        }
      ]
    },
    {
      "cell_type": "markdown",
      "metadata": {
        "id": "mhv1gqoUHnJk"
      },
      "source": [
        "### SVC"
      ]
    },
    {
      "cell_type": "code",
      "metadata": {
        "colab": {
          "base_uri": "https://localhost:8080/"
        },
        "id": "yY1Jmu0nHUvz",
        "outputId": "1f253146-a8f9-4cb0-ef51-b0ce1a589904"
      },
      "source": [
        "svc_model = getSVCConfigTrained()\n",
        "svc_model.fit(x_train_transformed_all, y)\n",
        "pred = svc_model.predict(x_test_tranformed_all)\n",
        "mse_svc = mean_squared_error(pred,y_test)**0.5\n",
        "f1_svc = f1_score(pred,y_test)\n",
        "accuracy_svc = accuracy_score(pred,y_test)\n",
        "roc_auc_svc = roc_auc_score(pred,y_test)\n",
        "print(\"MSE of svc\",mse_svc)\n",
        "print(\"F1 score of SVC\", f1_svc)\n",
        "print(\"accuracy of svc\", accuracy_svc)\n",
        "print(\"roc auc of SVC\", roc_auc_svc)\n",
        "svcmetrics = {\"accuracy\":accuracy_svc, \"F1 score\":f1_svc, \"roc\":roc_auc_svc, \"mse\":mse_svc}\n"
      ],
      "execution_count": null,
      "outputs": [
        {
          "output_type": "stream",
          "name": "stdout",
          "text": [
            "MSE of svc 0.0936585811581694\n",
            "F1 score of SVC 0.9873417721518987\n",
            "accuracy of svc 0.9912280701754386\n",
            "roc auc of SVC 0.9875\n"
          ]
        }
      ]
    },
    {
      "cell_type": "markdown",
      "metadata": {
        "id": "ZXNHfd5RHhK9"
      },
      "source": [
        "### Adaboost"
      ]
    },
    {
      "cell_type": "code",
      "metadata": {
        "colab": {
          "base_uri": "https://localhost:8080/"
        },
        "id": "Fo8T1zBDDzuu",
        "outputId": "15645069-9996-42c6-c3dc-efcb3158175b"
      },
      "source": [
        "adaboost_model = getAdaboostConfigTrained()\n",
        "adaboost_model.fit(x_train_transformed_sp, y)\n",
        "pred = adaboost_model.predict(x_test_tranformed_sp)\n",
        "mse_ada = mean_squared_error(pred,y_test)**0.5\n",
        "f1_ada = f1_score(pred,y_test)\n",
        "accuracy_ada = accuracy_score(pred,y_test)\n",
        "roc_auc_ada = roc_auc_score(pred,y_test)\n",
        "print(\"MSE of adaboost\", mse_ada)\n",
        "print(\"F1 score of adaboost\", f1_ada)\n",
        "print(\"accuracy of adaboost\", accuracy_ada)\n",
        "print(\"roc auc of adaboost\", roc_auc_ada)\n",
        "adametrics = {\"accuracy\":accuracy_ada, \"F1 score\":f1_ada, \"roc\":roc_auc_ada, \"mse\":mse_ada}"
      ],
      "execution_count": null,
      "outputs": [
        {
          "output_type": "stream",
          "name": "stdout",
          "text": [
            "MSE of adaboost 0.1873171623163388\n",
            "F1 score of adaboost 0.9500000000000001\n",
            "accuracy of adaboost 0.9649122807017544\n",
            "roc auc of adaboost 0.9565653190778483\n"
          ]
        }
      ]
    },
    {
      "cell_type": "markdown",
      "metadata": {
        "id": "uU-G5SXiKk_4"
      },
      "source": [
        "### random forest"
      ]
    },
    {
      "cell_type": "code",
      "metadata": {
        "colab": {
          "base_uri": "https://localhost:8080/"
        },
        "id": "87MdA_S_Io5c",
        "outputId": "2b396e84-13f5-464d-9b18-f0e807587388"
      },
      "source": [
        "rf_model = getRandomForestConfigTrained()\n",
        "rf_model.fit(x_train_transformed, y)\n",
        "pred = rf_model.predict(x_test_tranformed)\n",
        "mse_rf = mean_squared_error(pred,y_test)**0.5\n",
        "f1_rf = f1_score(pred,y_test)\n",
        "accuracy_rf = accuracy_score(pred,y_test)\n",
        "roc_auc_rf = roc_auc_score(pred,y_test)\n",
        "print(\"MSE of random forest\",mse_rf)\n",
        "print(\"F1 score of random forest\", f1_rf)\n",
        "print(\"accuracy of random forest\", accuracy_rf)\n",
        "print(\"roc auc of random forest\", roc_auc_rf)\n",
        "rfmetrics = {\"accuracy\":accuracy_rf, \"F1 score\":f1_rf, \"roc\":roc_auc_rf, \"mse\":mse_rf}"
      ],
      "execution_count": null,
      "outputs": [
        {
          "output_type": "stream",
          "name": "stdout",
          "text": [
            "MSE of random forest 0.13245323570650439\n",
            "F1 score of random forest 0.975\n",
            "accuracy of random forest 0.9824561403508771\n",
            "roc auc of random forest 0.975609756097561\n"
          ]
        }
      ]
    },
    {
      "cell_type": "markdown",
      "metadata": {
        "id": "pQM0cqP5Lc1n"
      },
      "source": [
        "### Neural network"
      ]
    },
    {
      "cell_type": "code",
      "metadata": {
        "colab": {
          "base_uri": "https://localhost:8080/",
          "height": 235
        },
        "id": "RTpe1jvBK3kx",
        "outputId": "b1233beb-fdf7-4bef-d563-f0457d72d604"
      },
      "source": [
        "nn_model = neuralnetworkConfigTrained()\n",
        "nn_model.fit(x_train_transformed, y, epochs=200, batch_size=32, verbose=1)\n",
        "pred = nn_model.predict(x_test_tranformed)\n",
        "print(\"MSE of neural network\",mean_squared_error(pred,y_test)**0.5)\n",
        "print(\"accuracy of neural network\", accuracy_score(pred,y_test))"
      ],
      "execution_count": null,
      "outputs": [
        {
          "output_type": "error",
          "ename": "AttributeError",
          "evalue": "ignored",
          "traceback": [
            "\u001b[0;31m---------------------------------------------------------------------------\u001b[0m",
            "\u001b[0;31mAttributeError\u001b[0m                            Traceback (most recent call last)",
            "\u001b[0;32m<ipython-input-78-5528eae7001c>\u001b[0m in \u001b[0;36m<module>\u001b[0;34m()\u001b[0m\n\u001b[1;32m      1\u001b[0m \u001b[0mnn_model\u001b[0m \u001b[0;34m=\u001b[0m \u001b[0mneuralnetworkConfigTrained\u001b[0m\u001b[0;34m(\u001b[0m\u001b[0;34m)\u001b[0m\u001b[0;34m\u001b[0m\u001b[0;34m\u001b[0m\u001b[0m\n\u001b[0;32m----> 2\u001b[0;31m \u001b[0mnn_model\u001b[0m\u001b[0;34m.\u001b[0m\u001b[0mfit\u001b[0m\u001b[0;34m(\u001b[0m\u001b[0mx_train_transformed\u001b[0m\u001b[0;34m,\u001b[0m \u001b[0my\u001b[0m\u001b[0;34m,\u001b[0m \u001b[0mepochs\u001b[0m\u001b[0;34m=\u001b[0m\u001b[0;36m200\u001b[0m\u001b[0;34m,\u001b[0m \u001b[0mbatch_size\u001b[0m\u001b[0;34m=\u001b[0m\u001b[0;36m32\u001b[0m\u001b[0;34m,\u001b[0m \u001b[0mverbose\u001b[0m\u001b[0;34m=\u001b[0m\u001b[0;36m1\u001b[0m\u001b[0;34m)\u001b[0m\u001b[0;34m\u001b[0m\u001b[0;34m\u001b[0m\u001b[0m\n\u001b[0m\u001b[1;32m      3\u001b[0m \u001b[0mpred\u001b[0m \u001b[0;34m=\u001b[0m \u001b[0mnn_model\u001b[0m\u001b[0;34m.\u001b[0m\u001b[0mpredict\u001b[0m\u001b[0;34m(\u001b[0m\u001b[0mx_test_tranformed\u001b[0m\u001b[0;34m)\u001b[0m\u001b[0;34m\u001b[0m\u001b[0;34m\u001b[0m\u001b[0m\n\u001b[1;32m      4\u001b[0m \u001b[0mprint\u001b[0m\u001b[0;34m(\u001b[0m\u001b[0;34m\"MSE of neural network\"\u001b[0m\u001b[0;34m,\u001b[0m\u001b[0mmean_squared_error\u001b[0m\u001b[0;34m(\u001b[0m\u001b[0mpred\u001b[0m\u001b[0;34m,\u001b[0m\u001b[0my_test\u001b[0m\u001b[0;34m)\u001b[0m\u001b[0;34m**\u001b[0m\u001b[0;36m0.5\u001b[0m\u001b[0;34m)\u001b[0m\u001b[0;34m\u001b[0m\u001b[0;34m\u001b[0m\u001b[0m\n\u001b[1;32m      5\u001b[0m \u001b[0mprint\u001b[0m\u001b[0;34m(\u001b[0m\u001b[0;34m\"accuracy of neural network\"\u001b[0m\u001b[0;34m,\u001b[0m \u001b[0maccuracy_score\u001b[0m\u001b[0;34m(\u001b[0m\u001b[0mpred\u001b[0m\u001b[0;34m,\u001b[0m\u001b[0my_test\u001b[0m\u001b[0;34m)\u001b[0m\u001b[0;34m)\u001b[0m\u001b[0;34m\u001b[0m\u001b[0;34m\u001b[0m\u001b[0m\n",
            "\u001b[0;31mAttributeError\u001b[0m: 'NoneType' object has no attribute 'fit'"
          ]
        }
      ]
    },
    {
      "cell_type": "markdown",
      "metadata": {
        "id": "59pcvMaWNiHH"
      },
      "source": [
        "### KNN"
      ]
    },
    {
      "cell_type": "code",
      "metadata": {
        "colab": {
          "base_uri": "https://localhost:8080/"
        },
        "id": "5l3A5sfHLt_S",
        "outputId": "55b9072c-e779-496a-8333-c62a26fb2c77"
      },
      "source": [
        "knn_model = getKNeighboursConfigTrained()\n",
        "knn_model.fit(x_train_transformed_all, y)\n",
        "pred_knn = knn_model.predict(x_test_tranformed_all)\n",
        "mse_knn = mean_squared_error(pred,y_test)**0.5\n",
        "f1_knn = f1_score(pred,y_test)\n",
        "accuracy_knn = accuracy_score(pred,y_test)\n",
        "roc_auc_knn = roc_auc_score(pred,y_test)\n",
        "print(\"MSE of KNN\",mse_knn)\n",
        "print(\"F1 score of KNN\", f1_knn)\n",
        "print(\"accuracy of KNN\", accuracy_knn)\n",
        "print(\"roc auc of KNN\", roc_auc_knn)\n",
        "knnmetrics = {\"accuracy\":accuracy_knn, \"F1 score\":f1_knn, \"roc\":roc_auc_knn, \"mse\":mse_knn}"
      ],
      "execution_count": null,
      "outputs": [
        {
          "output_type": "stream",
          "name": "stdout",
          "text": [
            "MSE of KNN 0.13245323570650439\n",
            "F1 score of KNN 0.975\n",
            "accuracy of KNN 0.9824561403508771\n",
            "roc auc of KNN 0.975609756097561\n"
          ]
        }
      ]
    },
    {
      "cell_type": "code",
      "metadata": {
        "colab": {
          "base_uri": "https://localhost:8080/",
          "height": 175
        },
        "id": "hp-UzpOTNveg",
        "outputId": "6ae05eca-73d2-44d4-ad00-b7397a85f061"
      },
      "source": [
        "metrics = {\"logistic regression\":lrmetrics, \"SVC\":svcmetrics, \"adaboost\":adametrics, \n",
        "           \"Random Forest\":rfmetrics, \"KNN\":knnmetrics}\n",
        "metrics_df = pd.DataFrame.from_dict(metrics)\n",
        "metrics_df\n",
        "\n",
        "#xyz = pd.DataFrame(metrics,index=[\"Logistic Regression\",\"SVC\",\"Adaboost\",\"Random Forest\",\"KNN\"])"
      ],
      "execution_count": null,
      "outputs": [
        {
          "output_type": "execute_result",
          "data": {
            "text/html": [
              "<div>\n",
              "<style scoped>\n",
              "    .dataframe tbody tr th:only-of-type {\n",
              "        vertical-align: middle;\n",
              "    }\n",
              "\n",
              "    .dataframe tbody tr th {\n",
              "        vertical-align: top;\n",
              "    }\n",
              "\n",
              "    .dataframe thead th {\n",
              "        text-align: right;\n",
              "    }\n",
              "</style>\n",
              "<table border=\"1\" class=\"dataframe\">\n",
              "  <thead>\n",
              "    <tr style=\"text-align: right;\">\n",
              "      <th></th>\n",
              "      <th>logistic regression</th>\n",
              "      <th>SVC</th>\n",
              "      <th>adaboost</th>\n",
              "      <th>Random Forest</th>\n",
              "      <th>KNN</th>\n",
              "    </tr>\n",
              "  </thead>\n",
              "  <tbody>\n",
              "    <tr>\n",
              "      <th>accuracy</th>\n",
              "      <td>0.973684</td>\n",
              "      <td>0.991228</td>\n",
              "      <td>0.964912</td>\n",
              "      <td>0.982456</td>\n",
              "      <td>0.964912</td>\n",
              "    </tr>\n",
              "    <tr>\n",
              "      <th>F1 score</th>\n",
              "      <td>0.961039</td>\n",
              "      <td>0.987342</td>\n",
              "      <td>0.950000</td>\n",
              "      <td>0.975000</td>\n",
              "      <td>0.950000</td>\n",
              "    </tr>\n",
              "    <tr>\n",
              "      <th>roc</th>\n",
              "      <td>0.973684</td>\n",
              "      <td>0.987500</td>\n",
              "      <td>0.956565</td>\n",
              "      <td>0.975610</td>\n",
              "      <td>0.956565</td>\n",
              "    </tr>\n",
              "    <tr>\n",
              "      <th>mse</th>\n",
              "      <td>0.162221</td>\n",
              "      <td>0.093659</td>\n",
              "      <td>0.187317</td>\n",
              "      <td>0.132453</td>\n",
              "      <td>0.187317</td>\n",
              "    </tr>\n",
              "  </tbody>\n",
              "</table>\n",
              "</div>"
            ],
            "text/plain": [
              "          logistic regression       SVC  adaboost  Random Forest       KNN\n",
              "accuracy             0.973684  0.991228  0.964912       0.982456  0.964912\n",
              "F1 score             0.961039  0.987342  0.950000       0.975000  0.950000\n",
              "roc                  0.973684  0.987500  0.956565       0.975610  0.956565\n",
              "mse                  0.162221  0.093659  0.187317       0.132453  0.187317"
            ]
          },
          "metadata": {},
          "execution_count": 125
        }
      ]
    },
    {
      "cell_type": "code",
      "metadata": {
        "colab": {
          "base_uri": "https://localhost:8080/",
          "height": 206
        },
        "id": "ZD2hy3nTYDTr",
        "outputId": "fa2bcaa8-c831-402c-b016-a91e29a7965e"
      },
      "source": [
        "accuracy = {\"Logistic Regression\":accuracy_lr, \"SVC\":accuracy_svc, \"Adaboost\":accuracy_ada, \n",
        "            \"Random Forest\":accuracy_rf, \"KNN\":accuracy_knn}\n",
        "F1 = {\"Logistic Regression\":f1_lr, \"SVC\":f1_svc, \"Adaboost\":f1_ada, \n",
        "            \"Random Forest\":f1_rf, \"KNN\":f1_knn}\n",
        "ROC = {\"Logistic Regression\":roc_auc_lr, \"SVC\":roc_auc_svc, \"Adaboost\":roc_auc_ada, \n",
        "            \"Random Forest\":roc_auc_rf, \"KNN\":roc_auc_knn}\n",
        "mse = {\"Logistic Regression\":mse_lr, \"SVC\":mse_svc, \"Adaboost\":mse_ada, \n",
        "            \"Random Forest\":mse_rf, \"KNN\":mse_knn}\n",
        "\n",
        "metrics = {\"Accuracy\":accuracy, \"F1 score\":F1, \"ROC\":ROC, \n",
        "           \"MSE\":mse}\n",
        "metrics_df = pd.DataFrame.from_dict(metrics)\n",
        "metrics_df"
      ],
      "execution_count": null,
      "outputs": [
        {
          "output_type": "execute_result",
          "data": {
            "text/html": [
              "<div>\n",
              "<style scoped>\n",
              "    .dataframe tbody tr th:only-of-type {\n",
              "        vertical-align: middle;\n",
              "    }\n",
              "\n",
              "    .dataframe tbody tr th {\n",
              "        vertical-align: top;\n",
              "    }\n",
              "\n",
              "    .dataframe thead th {\n",
              "        text-align: right;\n",
              "    }\n",
              "</style>\n",
              "<table border=\"1\" class=\"dataframe\">\n",
              "  <thead>\n",
              "    <tr style=\"text-align: right;\">\n",
              "      <th></th>\n",
              "      <th>Accuracy</th>\n",
              "      <th>F1 score</th>\n",
              "      <th>ROC</th>\n",
              "      <th>MSE</th>\n",
              "    </tr>\n",
              "  </thead>\n",
              "  <tbody>\n",
              "    <tr>\n",
              "      <th>Logistic Regression</th>\n",
              "      <td>0.973684</td>\n",
              "      <td>0.961039</td>\n",
              "      <td>0.973684</td>\n",
              "      <td>0.162221</td>\n",
              "    </tr>\n",
              "    <tr>\n",
              "      <th>SVC</th>\n",
              "      <td>0.991228</td>\n",
              "      <td>0.987342</td>\n",
              "      <td>0.987500</td>\n",
              "      <td>0.093659</td>\n",
              "    </tr>\n",
              "    <tr>\n",
              "      <th>Adaboost</th>\n",
              "      <td>0.964912</td>\n",
              "      <td>0.950000</td>\n",
              "      <td>0.956565</td>\n",
              "      <td>0.187317</td>\n",
              "    </tr>\n",
              "    <tr>\n",
              "      <th>Random Forest</th>\n",
              "      <td>0.982456</td>\n",
              "      <td>0.975000</td>\n",
              "      <td>0.975610</td>\n",
              "      <td>0.132453</td>\n",
              "    </tr>\n",
              "    <tr>\n",
              "      <th>KNN</th>\n",
              "      <td>0.982456</td>\n",
              "      <td>0.975000</td>\n",
              "      <td>0.975610</td>\n",
              "      <td>0.132453</td>\n",
              "    </tr>\n",
              "  </tbody>\n",
              "</table>\n",
              "</div>"
            ],
            "text/plain": [
              "                     Accuracy  F1 score       ROC       MSE\n",
              "Logistic Regression  0.973684  0.961039  0.973684  0.162221\n",
              "SVC                  0.991228  0.987342  0.987500  0.093659\n",
              "Adaboost             0.964912  0.950000  0.956565  0.187317\n",
              "Random Forest        0.982456  0.975000  0.975610  0.132453\n",
              "KNN                  0.982456  0.975000  0.975610  0.132453"
            ]
          },
          "metadata": {},
          "execution_count": 135
        }
      ]
    },
    {
      "cell_type": "code",
      "metadata": {
        "colab": {
          "base_uri": "https://localhost:8080/",
          "height": 391
        },
        "id": "EBW4CVMmSyIu",
        "outputId": "028a1aed-7dc2-43f7-9aa0-dec9377fefe9"
      },
      "source": [
        "bar = metrics_df.plot.bar(rot=0,figsize=(10,6))\n",
        "bar.legend(loc=\"center left\",bbox_to_anchor=(1,0.5))\n",
        "#try to separate legend from bar plot"
      ],
      "execution_count": null,
      "outputs": [
        {
          "output_type": "execute_result",
          "data": {
            "text/plain": [
              "<matplotlib.legend.Legend at 0x7f97ba3c7410>"
            ]
          },
          "metadata": {},
          "execution_count": 150
        },
        {
          "output_type": "display_data",
          "data": {
            "image/png": "[encoded data removed]",
            "text/plain": [
              "<Figure size 720x432 with 1 Axes>"
            ]
          },
          "metadata": {
            "needs_background": "light"
          }
        }
      ]
    }
  ]
}