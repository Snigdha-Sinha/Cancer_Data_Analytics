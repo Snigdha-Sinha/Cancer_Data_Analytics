{
  "nbformat": 4,
  "nbformat_minor": 0,
  "metadata": {
    "colab": {
      "name": "PCA.ipynb",
      "provenance": [],
      "collapsed_sections": []
    },
    "kernelspec": {
      "name": "python3",
      "display_name": "Python 3"
    },
    "language_info": {
      "name": "python"
    }
  },
  "cells": [
    {
      "cell_type": "code",
      "metadata": {
        "id": "r0-TIeDFiT4o"
      },
      "source": [
        "import pandas as pd\n",
        "import numpy as np\n",
        "from sklearn.decomposition import PCA\n",
        "import matplotlib.pyplot as plt\n",
        "from sklearn.preprocessing import StandardScaler, Normalizer\n",
        "from sklearn.pipeline import Pipeline"
      ],
      "execution_count": 1,
      "outputs": []
    },
    {
      "cell_type": "code",
      "metadata": {
        "id": "eUq6KgKhg0xx"
      },
      "source": [
        "df = pd.read_excel('breast-cancer-wisconsin-data_data.xls')\n",
        "df.drop([\"id\"],axis=1,inplace=True)\n",
        "diagnosis={'M':1, 'B':0}\n",
        "df['diagnosis']=[diagnosis[x] for x in df['diagnosis']]\n",
        "y=df['diagnosis']"
      ],
      "execution_count": 2,
      "outputs": []
    },
    {
      "cell_type": "code",
      "metadata": {
        "id": "TWGqQOhEiCdU"
      },
      "source": [
        "X=df.drop([\"diagnosis\"], axis=1)"
      ],
      "execution_count": 3,
      "outputs": []
    },
    {
      "cell_type": "code",
      "metadata": {
        "id": "qD4SjKZaiEZ3"
      },
      "source": [
        "scaler=StandardScaler()\n",
        "normalizer=Normalizer()"
      ],
      "execution_count": 4,
      "outputs": []
    },
    {
      "cell_type": "code",
      "metadata": {
        "id": "IB3N_to9iGzx"
      },
      "source": [
        "pipe=Pipeline([(\"normalizer\",normalizer)])\n",
        "pipe.fit(X)\n",
        "X_transformed=pipe.transform(X)"
      ],
      "execution_count": 5,
      "outputs": []
    },
    {
      "cell_type": "code",
      "metadata": {
        "id": "mIfSomZziJ48",
        "colab": {
          "base_uri": "https://localhost:8080/",
          "height": 297
        },
        "outputId": "1770ada1-a66a-445c-f0f1-d806fb8de08b"
      },
      "source": [
        "pca = PCA()\n",
        "\n",
        "X_train_pca = pca.fit_transform(X_transformed)\n",
        "\n",
        "exp_var_pca = pca.explained_variance_ratio_\n",
        "\n",
        "cum_sum_eigenvalues = np.cumsum(exp_var_pca)\n",
        "plt.bar(range(0,len(exp_var_pca)), exp_var_pca, alpha=0.5, align='center', label='Individual explained variance')\n",
        "plt.step(range(0,len(cum_sum_eigenvalues)), cum_sum_eigenvalues, where='mid',label='Cumulative explained variance')\n",
        "plt.ylabel('Explained variance ratio')\n",
        "plt.xlabel('Principal component index')\n",
        "plt.legend(loc='best')\n",
        "plt.tight_layout()\n",
        "plt.show()"
      ],
      "execution_count": 6,
      "outputs": [
        {
          "output_type": "display_data",
          "data": {
            "image/png": "[encoded data removed]",
            "text/plain": [
              "<Figure size 432x288 with 1 Axes>"
            ]
          },
          "metadata": {
            "needs_background": "light"
          }
        }
      ]
    },
    {
      "cell_type": "code",
      "metadata": {
        "id": "szHojvj_koyr"
      },
      "source": [
        "#  scaling \n",
        "# normalizing\n",
        "# scaling + pca 15\n",
        "# normalizing + pca 5\n",
        "# scaling + normalizing \n",
        "# scaling + normalizing + pca 15"
      ],
      "execution_count": 6,
      "outputs": []
    }
  ]
}